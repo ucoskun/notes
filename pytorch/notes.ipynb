{
 "cells": [
  {
   "cell_type": "code",
   "execution_count": 7,
   "metadata": {},
   "outputs": [],
   "source": [
    "import torch"
   ]
  },
  {
   "cell_type": "markdown",
   "metadata": {},
   "source": [
    "Autograd"
   ]
  },
  {
   "cell_type": "code",
   "execution_count": 8,
   "metadata": {},
   "outputs": [
    {
     "name": "stdout",
     "output_type": "stream",
     "text": [
      "tensor([1.2710, 0.9258, 0.6069], requires_grad=True)\n",
      "tensor([2.5421, 1.8516, 1.2138], grad_fn=<MulBackward0>)\n",
      "tensor(7.5759, grad_fn=<MeanBackward0>)\n"
     ]
    }
   ],
   "source": [
    "x = torch.randn(3, requires_grad=True)\n",
    "print(x)\n",
    "y = x*2\n",
    "print(y)\n",
    "z = y*y*2\n",
    "z = z.mean()\n",
    "print(z)"
   ]
  },
  {
   "cell_type": "code",
   "execution_count": 9,
   "metadata": {},
   "outputs": [
    {
     "name": "stdout",
     "output_type": "stream",
     "text": [
      "tensor([6.7789, 4.9376, 3.2367])\n"
     ]
    }
   ],
   "source": [
    "z.backward() # dz/dx\n",
    "\n",
    "print(x.grad)"
   ]
  },
  {
   "cell_type": "markdown",
   "metadata": {},
   "source": [
    "Simple linear regression using autograd\n",
    "\n",
    "y_hat = x*w"
   ]
  },
  {
   "cell_type": "code",
   "execution_count": 10,
   "metadata": {},
   "outputs": [
    {
     "name": "stdout",
     "output_type": "stream",
     "text": [
      "tensor(1., grad_fn=<PowBackward0>)\n"
     ]
    }
   ],
   "source": [
    "x = torch.tensor(1.0)\n",
    "y = torch.tensor(2.0)\n",
    "\n",
    "w = torch.tensor(1.0, requires_grad=True)\n",
    "\n",
    "# forward pass and compute the loss\n",
    "y_hat = x * w\n",
    "loss = (y_hat - y)**2\n",
    "\n",
    "print(loss)"
   ]
  },
  {
   "cell_type": "code",
   "execution_count": 11,
   "metadata": {},
   "outputs": [
    {
     "name": "stdout",
     "output_type": "stream",
     "text": [
      "tensor(-2.)\n"
     ]
    }
   ],
   "source": [
    "# backward pass\n",
    "loss.backward()\n",
    "print(w.grad)"
   ]
  },
  {
   "cell_type": "code",
   "execution_count": 19,
   "metadata": {},
   "outputs": [
    {
     "name": "stdout",
     "output_type": "stream",
     "text": [
      "Prediction before training: f(5) = 0.000\n",
      "epoch 1: w = 0.300, loss = 30.00000000\n",
      "epoch 2: w = 0.555, loss = 21.67499924\n",
      "epoch 3: w = 0.772, loss = 15.66018772\n",
      "epoch 4: w = 0.956, loss = 11.31448650\n",
      "epoch 5: w = 1.113, loss = 8.17471695\n",
      "epoch 6: w = 1.246, loss = 5.90623236\n",
      "epoch 7: w = 1.359, loss = 4.26725292\n",
      "epoch 8: w = 1.455, loss = 3.08308983\n",
      "epoch 9: w = 1.537, loss = 2.22753215\n",
      "epoch 10: w = 1.606, loss = 1.60939169\n",
      "epoch 11: w = 1.665, loss = 1.16278565\n",
      "epoch 12: w = 1.716, loss = 0.84011245\n",
      "epoch 13: w = 1.758, loss = 0.60698116\n",
      "epoch 14: w = 1.794, loss = 0.43854395\n",
      "epoch 15: w = 1.825, loss = 0.31684780\n",
      "epoch 16: w = 1.851, loss = 0.22892261\n",
      "epoch 17: w = 1.874, loss = 0.16539653\n",
      "epoch 18: w = 1.893, loss = 0.11949898\n",
      "epoch 19: w = 1.909, loss = 0.08633806\n",
      "epoch 20: w = 1.922, loss = 0.06237914\n",
      "epoch 21: w = 1.934, loss = 0.04506890\n",
      "epoch 22: w = 1.944, loss = 0.03256231\n",
      "epoch 23: w = 1.952, loss = 0.02352631\n",
      "epoch 24: w = 1.960, loss = 0.01699772\n",
      "epoch 25: w = 1.966, loss = 0.01228084\n",
      "epoch 26: w = 1.971, loss = 0.00887291\n",
      "epoch 27: w = 1.975, loss = 0.00641066\n",
      "epoch 28: w = 1.979, loss = 0.00463169\n",
      "epoch 29: w = 1.982, loss = 0.00334642\n",
      "epoch 30: w = 1.985, loss = 0.00241778\n",
      "epoch 31: w = 1.987, loss = 0.00174685\n",
      "epoch 32: w = 1.989, loss = 0.00126211\n",
      "epoch 33: w = 1.991, loss = 0.00091188\n",
      "epoch 34: w = 1.992, loss = 0.00065882\n",
      "epoch 35: w = 1.993, loss = 0.00047601\n",
      "epoch 36: w = 1.994, loss = 0.00034392\n",
      "epoch 37: w = 1.995, loss = 0.00024848\n",
      "epoch 38: w = 1.996, loss = 0.00017952\n",
      "epoch 39: w = 1.996, loss = 0.00012971\n",
      "epoch 40: w = 1.997, loss = 0.00009371\n",
      "epoch 41: w = 1.997, loss = 0.00006770\n",
      "epoch 42: w = 1.998, loss = 0.00004891\n",
      "epoch 43: w = 1.998, loss = 0.00003534\n",
      "epoch 44: w = 1.998, loss = 0.00002553\n",
      "epoch 45: w = 1.999, loss = 0.00001845\n",
      "epoch 46: w = 1.999, loss = 0.00001333\n",
      "epoch 47: w = 1.999, loss = 0.00000963\n",
      "epoch 48: w = 1.999, loss = 0.00000696\n",
      "epoch 49: w = 1.999, loss = 0.00000503\n",
      "epoch 50: w = 1.999, loss = 0.00000363\n",
      "epoch 51: w = 1.999, loss = 0.00000262\n",
      "epoch 52: w = 2.000, loss = 0.00000190\n",
      "epoch 53: w = 2.000, loss = 0.00000137\n",
      "epoch 54: w = 2.000, loss = 0.00000099\n",
      "epoch 55: w = 2.000, loss = 0.00000071\n",
      "epoch 56: w = 2.000, loss = 0.00000052\n",
      "epoch 57: w = 2.000, loss = 0.00000037\n",
      "epoch 58: w = 2.000, loss = 0.00000027\n",
      "epoch 59: w = 2.000, loss = 0.00000019\n",
      "epoch 60: w = 2.000, loss = 0.00000014\n",
      "epoch 61: w = 2.000, loss = 0.00000010\n",
      "epoch 62: w = 2.000, loss = 0.00000007\n",
      "epoch 63: w = 2.000, loss = 0.00000005\n",
      "epoch 64: w = 2.000, loss = 0.00000004\n",
      "epoch 65: w = 2.000, loss = 0.00000003\n",
      "epoch 66: w = 2.000, loss = 0.00000002\n",
      "epoch 67: w = 2.000, loss = 0.00000001\n",
      "epoch 68: w = 2.000, loss = 0.00000001\n",
      "epoch 69: w = 2.000, loss = 0.00000001\n",
      "epoch 70: w = 2.000, loss = 0.00000001\n",
      "epoch 71: w = 2.000, loss = 0.00000000\n",
      "epoch 72: w = 2.000, loss = 0.00000000\n",
      "epoch 73: w = 2.000, loss = 0.00000000\n",
      "epoch 74: w = 2.000, loss = 0.00000000\n",
      "epoch 75: w = 2.000, loss = 0.00000000\n",
      "epoch 76: w = 2.000, loss = 0.00000000\n",
      "epoch 77: w = 2.000, loss = 0.00000000\n",
      "epoch 78: w = 2.000, loss = 0.00000000\n",
      "epoch 79: w = 2.000, loss = 0.00000000\n",
      "epoch 80: w = 2.000, loss = 0.00000000\n",
      "epoch 81: w = 2.000, loss = 0.00000000\n",
      "epoch 82: w = 2.000, loss = 0.00000000\n",
      "epoch 83: w = 2.000, loss = 0.00000000\n",
      "epoch 84: w = 2.000, loss = 0.00000000\n",
      "epoch 85: w = 2.000, loss = 0.00000000\n",
      "epoch 86: w = 2.000, loss = 0.00000000\n",
      "epoch 87: w = 2.000, loss = 0.00000000\n",
      "epoch 88: w = 2.000, loss = 0.00000000\n",
      "epoch 89: w = 2.000, loss = 0.00000000\n",
      "epoch 90: w = 2.000, loss = 0.00000000\n",
      "epoch 91: w = 2.000, loss = 0.00000000\n",
      "epoch 92: w = 2.000, loss = 0.00000000\n",
      "epoch 93: w = 2.000, loss = 0.00000000\n",
      "epoch 94: w = 2.000, loss = 0.00000000\n",
      "epoch 95: w = 2.000, loss = 0.00000000\n",
      "epoch 96: w = 2.000, loss = 0.00000000\n",
      "epoch 97: w = 2.000, loss = 0.00000000\n",
      "epoch 98: w = 2.000, loss = 0.00000000\n",
      "epoch 99: w = 2.000, loss = 0.00000000\n",
      "epoch 100: w = 2.000, loss = 0.00000000\n",
      "Prediction after training: f(5) = 10.000\n"
     ]
    }
   ],
   "source": [
    "#Gradient descent using torch\n",
    "\n",
    "X = torch.tensor([1, 2, 3, 4], dtype=torch.float32)\n",
    "Y = torch.tensor([2, 4, 6, 8], dtype=torch.float32)\n",
    "\n",
    "w = torch.tensor(0.0, dtype=torch.float32, requires_grad=True)\n",
    "\n",
    "def forward(x):\n",
    "    return w * x\n",
    "\n",
    "def loss(y, y_predicted):\n",
    "    return ((y_predicted - y)**2).mean()\n",
    "\n",
    "print(f'Prediction before training: f(5) = {forward(5):.3f}')\n",
    "\n",
    "# Training\n",
    "learning_rate = 0.01\n",
    "n_iters = 100\n",
    "\n",
    "for epoch in range(n_iters):\n",
    "    y_pred = forward(X)\n",
    "\n",
    "    l = loss(Y, y_pred)\n",
    "\n",
    "    l.backward()\n",
    "\n",
    "    dw = w.grad\n",
    "    # Update weights\n",
    "    with torch.no_grad():\n",
    "        w -= learning_rate * dw\n",
    "    \n",
    "    print(f'epoch {epoch+1}: w = {w:.3f}, loss = {l:.8f}')\n",
    "    # zero gradients\n",
    "    w.grad.zero_()\n",
    "\n",
    "print(f'Prediction after training: f(5) = {forward(5):.3f}')"
   ]
  },
  {
   "cell_type": "code",
   "execution_count": null,
   "metadata": {},
   "outputs": [],
   "source": []
  }
 ],
 "metadata": {
  "interpreter": {
   "hash": "bf71ab994c8aa9d0319712d33ff7a81548b1c79f6b508716a85a5851e01ecb0e"
  },
  "kernelspec": {
   "display_name": "Python 3.9.7 ('pytorch')",
   "language": "python",
   "name": "python3"
  },
  "language_info": {
   "codemirror_mode": {
    "name": "ipython",
    "version": 3
   },
   "file_extension": ".py",
   "mimetype": "text/x-python",
   "name": "python",
   "nbconvert_exporter": "python",
   "pygments_lexer": "ipython3",
   "version": "3.9.7"
  },
  "orig_nbformat": 4
 },
 "nbformat": 4,
 "nbformat_minor": 2
}
